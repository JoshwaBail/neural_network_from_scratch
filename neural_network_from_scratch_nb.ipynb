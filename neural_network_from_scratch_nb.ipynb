{
 "cells": [
  {
   "cell_type": "code",
   "execution_count": 47,
   "metadata": {},
   "outputs": [],
   "source": [
    "import random\n",
    "\n",
    "import numpy as np\n",
    "\n",
    "from neural_network import Network"
   ]
  },
  {
   "cell_type": "code",
   "execution_count": 48,
   "metadata": {},
   "outputs": [],
   "source": [
    "nodes = [5, 5, 3, 2]\n",
    "number_of_examples_train = 100\n",
    "number_of_examples_test = 20\n",
    "n_classes = 2\n",
    "nn = Network(nodes)"
   ]
  },
  {
   "cell_type": "code",
   "execution_count": 49,
   "metadata": {},
   "outputs": [],
   "source": [
    "train = list(zip(np.random.rand(number_of_examples_train,nodes[0]), np.random.randint(n_classes, size=number_of_examples_train)))\n",
    "test = list(zip(np.random.rand(number_of_examples_test,nodes[0]), np.random.randint(n_classes, size=number_of_examples_test)))"
   ]
  },
  {
   "cell_type": "code",
   "execution_count": 50,
   "metadata": {},
   "outputs": [
    {
     "data": {
      "text/plain": [
       "100"
      ]
     },
     "execution_count": 50,
     "metadata": {},
     "output_type": "execute_result"
    }
   ],
   "source": [
    "len(train)"
   ]
  },
  {
   "cell_type": "code",
   "execution_count": 51,
   "metadata": {},
   "outputs": [],
   "source": [
    "def one_hot_encode(y):\n",
    "    encoded = np.zeros((2, 1))\n",
    "    encoded[y] = 1.0\n",
    "    return encoded\n",
    " \n",
    "def reformat_data_together(data):\n",
    "    data_x = []\n",
    "    data_y = []\n",
    "    for i, d in enumerate(data):\n",
    "        data_x.append(np.reshape(d[0], (nodes[0],1)))\n",
    "        data_y.append(one_hot_encode(d[1]))\n",
    "    data = zip(data_x, data_y)\n",
    "    return data"
   ]
  },
  {
   "cell_type": "code",
   "execution_count": 52,
   "metadata": {},
   "outputs": [],
   "source": [
    "train_new = reformat_data_together(train)\n",
    "test_new = reformat_data_together(test)"
   ]
  },
  {
   "cell_type": "code",
   "execution_count": 53,
   "metadata": {},
   "outputs": [
    {
     "name": "stdout",
     "output_type": "stream",
     "text": [
      "Epoch 0: 7/ 20\n",
      "Epoch 1: 7/ 20\n",
      "Epoch 2: 7/ 20\n",
      "Epoch 3: 7/ 20\n",
      "Epoch 4: 8/ 20\n",
      "Epoch 5: 8/ 20\n",
      "Epoch 6: 10/ 20\n",
      "Epoch 7: 10/ 20\n",
      "Epoch 8: 10/ 20\n",
      "Epoch 9: 11/ 20\n",
      "Epoch 10: 9/ 20\n",
      "Epoch 11: 10/ 20\n",
      "Epoch 12: 9/ 20\n",
      "Epoch 13: 9/ 20\n",
      "Epoch 14: 10/ 20\n",
      "Epoch 15: 8/ 20\n",
      "Epoch 16: 8/ 20\n",
      "Epoch 17: 8/ 20\n",
      "Epoch 18: 9/ 20\n",
      "Epoch 19: 9/ 20\n",
      "Epoch 20: 9/ 20\n",
      "Epoch 21: 8/ 20\n",
      "Epoch 22: 9/ 20\n",
      "Epoch 23: 11/ 20\n",
      "Epoch 24: 9/ 20\n",
      "Epoch 25: 9/ 20\n",
      "Epoch 26: 10/ 20\n",
      "Epoch 27: 8/ 20\n",
      "Epoch 28: 10/ 20\n",
      "Epoch 29: 13/ 20\n",
      "Epoch 30: 7/ 20\n",
      "Epoch 31: 8/ 20\n",
      "Epoch 32: 8/ 20\n",
      "Epoch 33: 9/ 20\n",
      "Epoch 34: 8/ 20\n",
      "Epoch 35: 8/ 20\n",
      "Epoch 36: 8/ 20\n",
      "Epoch 37: 8/ 20\n",
      "Epoch 38: 8/ 20\n",
      "Epoch 39: 7/ 20\n",
      "Epoch 40: 8/ 20\n",
      "Epoch 41: 8/ 20\n",
      "Epoch 42: 8/ 20\n",
      "Epoch 43: 8/ 20\n",
      "Epoch 44: 13/ 20\n",
      "Epoch 45: 8/ 20\n",
      "Epoch 46: 8/ 20\n",
      "Epoch 47: 8/ 20\n",
      "Epoch 48: 8/ 20\n",
      "Epoch 49: 8/ 20\n",
      "Epoch 50: 8/ 20\n",
      "Epoch 51: 12/ 20\n",
      "Epoch 52: 8/ 20\n",
      "Epoch 53: 8/ 20\n",
      "Epoch 54: 8/ 20\n",
      "Epoch 55: 13/ 20\n",
      "Epoch 56: 9/ 20\n",
      "Epoch 57: 8/ 20\n",
      "Epoch 58: 8/ 20\n",
      "Epoch 59: 7/ 20\n",
      "Epoch 60: 11/ 20\n",
      "Epoch 61: 12/ 20\n",
      "Epoch 62: 12/ 20\n",
      "Epoch 63: 8/ 20\n",
      "Epoch 64: 8/ 20\n",
      "Epoch 65: 8/ 20\n",
      "Epoch 66: 8/ 20\n",
      "Epoch 67: 8/ 20\n",
      "Epoch 68: 7/ 20\n",
      "Epoch 69: 11/ 20\n",
      "Epoch 70: 8/ 20\n",
      "Epoch 71: 8/ 20\n",
      "Epoch 72: 12/ 20\n",
      "Epoch 73: 11/ 20\n",
      "Epoch 74: 12/ 20\n",
      "Epoch 75: 8/ 20\n",
      "Epoch 76: 8/ 20\n",
      "Epoch 77: 11/ 20\n",
      "Epoch 78: 7/ 20\n",
      "Epoch 79: 11/ 20\n",
      "Epoch 80: 10/ 20\n",
      "Epoch 81: 7/ 20\n",
      "Epoch 82: 7/ 20\n",
      "Epoch 83: 13/ 20\n",
      "Epoch 84: 8/ 20\n",
      "Epoch 85: 8/ 20\n",
      "Epoch 86: 7/ 20\n",
      "Epoch 87: 8/ 20\n",
      "Epoch 88: 12/ 20\n",
      "Epoch 89: 14/ 20\n",
      "Epoch 90: 14/ 20\n",
      "Epoch 91: 9/ 20\n",
      "Epoch 92: 8/ 20\n",
      "Epoch 93: 8/ 20\n",
      "Epoch 94: 8/ 20\n",
      "Epoch 95: 7/ 20\n",
      "Epoch 96: 8/ 20\n",
      "Epoch 97: 7/ 20\n",
      "Epoch 98: 7/ 20\n",
      "Epoch 99: 7/ 20\n"
     ]
    }
   ],
   "source": [
    "net = Network(nodes)\n",
    "net.train(train_new, 100, 10, .5, test_data=test_new)"
   ]
  },
  {
   "cell_type": "code",
   "execution_count": 54,
   "metadata": {},
   "outputs": [
    {
     "data": {
      "text/plain": [
       "[]"
      ]
     },
     "execution_count": 54,
     "metadata": {},
     "output_type": "execute_result"
    }
   ],
   "source": [
    "list(test_new)"
   ]
  },
  {
   "cell_type": "code",
   "execution_count": null,
   "metadata": {},
   "outputs": [],
   "source": []
  },
  {
   "cell_type": "code",
   "execution_count": null,
   "metadata": {},
   "outputs": [],
   "source": []
  }
 ],
 "metadata": {
  "kernelspec": {
   "display_name": "Python 3",
   "language": "python",
   "name": "python3"
  },
  "language_info": {
   "codemirror_mode": {
    "name": "ipython",
    "version": 3
   },
   "file_extension": ".py",
   "mimetype": "text/x-python",
   "name": "python",
   "nbconvert_exporter": "python",
   "pygments_lexer": "ipython3",
   "version": "3.7.6"
  }
 },
 "nbformat": 4,
 "nbformat_minor": 4
}
